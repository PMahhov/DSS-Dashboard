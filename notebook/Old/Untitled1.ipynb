{
 "cells": [
  {
   "cell_type": "code",
   "execution_count": 10,
   "id": "801f56ca-c42c-4d51-a707-00d23660fe1a",
   "metadata": {},
   "outputs": [
    {
     "name": "stdout",
     "output_type": "stream",
     "text": [
      "Mode: ModeResult(mode=2, count=1)\n",
      "Median: 18.0\n",
      "1st Quantile (Q1): 11.5\n",
      "3rd Quantile (Q3): 32.75\n",
      "A1 25.9\n",
      "Arithmetic Mean: 25.9\n",
      "Minimum: 2\n",
      "Maximum: 80\n",
      "Range: 78\n",
      "Interquartile Range (IQR): 21.25\n",
      "Variance: 0.0\n",
      "Standard Deviation: 0.0\n",
      "Skewness: nan\n"
     ]
    }
   ],
   "source": [
    "import numpy as np\n",
    "from scipy import stats\n",
    "import pandas as pd\n",
    "import statistics as st\n",
    "data = [-2,-1,-0.5,0,0.25,0.25,1,2]\n",
    "X2 = {0,0.1,0.3,0.7,1.5,3,7}\n",
    "X3 = {-2,-1.25,-1,-0.8,-0.5,0,0,0}\n",
    "saleslastweek = [2, 7, 11, 13, 17, 19, 23, 36, 51, 80]\n",
    "\n",
    "\n",
    " \n",
    "\n",
    "# Mode\n",
    "mode = stats.mode(saleslastweek)\n",
    "print(\"Mode:\", mode)\n",
    "\n",
    " \n",
    "\n",
    "# Median\n",
    "median = np.median(saleslastweek)\n",
    "print(\"Median:\", median)\n",
    "\n",
    " \n",
    "\n",
    "# 1st Quantile (25th percentile)\n",
    "q1 = np.percentile(saleslastweek, 25)\n",
    "print(\"1st Quantile (Q1):\", q1)\n",
    "\n",
    " \n",
    "\n",
    "# 3rd Quantile (75th percentile)\n",
    "q3 = np.percentile(saleslastweek, 75)\n",
    "print(\"3rd Quantile (Q3):\", q3)\n",
    "\n",
    " \n",
    "\n",
    "# Arithmetic Mean\n",
    "mean = np.mean(saleslastweek)\n",
    "print('A1', st.mean(saleslastweek))\n",
    "print(\"Arithmetic Mean:\", mean)\n",
    "\n",
    " \n",
    "\n",
    "# Minimum\n",
    "minimum = min(saleslastweek)\n",
    "print(\"Minimum:\", minimum)\n",
    "\n",
    " \n",
    "\n",
    "# Maximum\n",
    "maximum = max(saleslastweek)\n",
    "print(\"Maximum:\", maximum)\n",
    "\n",
    " \n",
    "\n",
    "# Range\n",
    "saleslastweek = maximum - minimum\n",
    "print(\"Range:\", saleslastweek)\n",
    "\n",
    " \n",
    "\n",
    "# Interquartile Range (IQR)\n",
    "iqr = q3 - q1\n",
    "print(\"Interquartile Range (IQR):\", iqr)\n",
    "\n",
    " \n",
    "\n",
    "# Variance\n",
    "variance = np.var(saleslastweek)\n",
    "print(\"Variance:\", variance)\n",
    "\n",
    " \n",
    "\n",
    "# Standard Deviation\n",
    "std_dev = np.std(saleslastweek)\n",
    "print(\"Standard Deviation:\", std_dev)\n",
    "\n",
    " \n",
    "\n",
    "# Skewness\n",
    "skew = stats.skew(saleslastweek)\n",
    "print(\"Skewness:\", skew)"
   ]
  },
  {
   "cell_type": "code",
   "execution_count": 9,
   "id": "75508db4-5888-4cf5-99e0-064bd8fca9d3",
   "metadata": {},
   "outputs": [
    {
     "name": "stdout",
     "output_type": "stream",
     "text": [
      "   turnover  month\n",
      "0      2332      3\n",
      "1      2424      3\n",
      "2      2441      3\n",
      "3      2481      3\n",
      "4      2489      3\n",
      "5      2390      3\n"
     ]
    }
   ],
   "source": [
    "sales = pd.DataFrame({'turnover': [2332,2424,2441,2481,2489, 2390], 'month': [3,3,3,3,3,3]})\n",
    "print(sales)"
   ]
  },
  {
   "cell_type": "code",
   "execution_count": 11,
   "id": "0bf3d52b-b93e-4f9b-a01b-6d0f14dfbd03",
   "metadata": {},
   "outputs": [
    {
     "name": "stdout",
     "output_type": "stream",
     "text": [
      "Standard Deviation: 53.78170899313467\n"
     ]
    }
   ],
   "source": [
    "std_dev = np.std(sales['turnover'])\n",
    "print(\"Standard Deviation:\", std_dev)"
   ]
  },
  {
   "cell_type": "code",
   "execution_count": 8,
   "id": "b47675b5-73ef-49a2-873c-32bbf5fc3d32",
   "metadata": {},
   "outputs": [
    {
     "name": "stdout",
     "output_type": "stream",
     "text": [
      "Standard Deviation: 53.78170899313467\n"
     ]
    }
   ],
   "source": [
    "sales = pd.DataFrame({'turnover': [2332,2424,2441,2481,2489,2390,1799,1985,2101,1798,1973,2014], 'month': [3,3,3,3,3,3,1,1,1,1,1,1], 'store': [1,2,3,4,5,6,1,2,3,4,5,6]})\n",
    "std_dev = np.std(sales['turnover'][sales['month']==3])\n",
    "print(\"Standard Deviation:\", std_dev)"
   ]
  },
  {
   "cell_type": "code",
   "execution_count": null,
   "id": "5579d1cd-1e19-48ab-90c2-041ae3010a63",
   "metadata": {},
   "outputs": [],
   "source": []
  }
 ],
 "metadata": {
  "kernelspec": {
   "display_name": "Python 3 (ipykernel)",
   "language": "python",
   "name": "python3"
  },
  "language_info": {
   "codemirror_mode": {
    "name": "ipython",
    "version": 3
   },
   "file_extension": ".py",
   "mimetype": "text/x-python",
   "name": "python",
   "nbconvert_exporter": "python",
   "pygments_lexer": "ipython3",
   "version": "3.11.5"
  }
 },
 "nbformat": 4,
 "nbformat_minor": 5
}
