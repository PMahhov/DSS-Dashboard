{
 "cells": [
  {
   "cell_type": "markdown",
   "id": "dab306e3",
   "metadata": {},
   "source": [
    "# Import Neighboorhoods file"
   ]
  },
  {
   "cell_type": "markdown",
   "id": "ef17bea2-3e2e-465d-908c-c5dd3429e282",
   "metadata": {},
   "source": [
    "This Docker container may serve as a starting point for your course project.\n",
    "It includes a set of simple instructions to:\n",
    "<br>\n",
    " -> load a dataset (locally)\n",
    " <br>\n",
    " -> into a database\n",
    " <br>\n",
    " -> and be able to query data from the database\n",
    " <br>\n",
    " -> and make simple visualizations on the queried data"
   ]
  },
  {
   "cell_type": "code",
   "execution_count": 1,
   "id": "603f88b8",
   "metadata": {},
   "outputs": [],
   "source": [
    "# Imports\n",
    "\n",
    "from sqlalchemy import create_engine, text, inspect, Table\n",
    "import pandas as pd"
   ]
  },
  {
   "cell_type": "markdown",
   "id": "10bbf420-fda0-4f5e-9268-aa7a32db6ae7",
   "metadata": {},
   "source": [
    "## Load csv file\n",
    "\n",
    "Load the file called world_population.csv into a pandas dataframe. Make sure you parse the columns correctly."
   ]
  },
  {
   "cell_type": "code",
   "execution_count": 2,
   "id": "1d8f6be3-7b74-41eb-8b60-3b9aee1434d1",
   "metadata": {},
   "outputs": [
    {
     "name": "stdout",
     "output_type": "stream",
     "text": [
      "Folders in the parent directory:\n",
      "etc\n",
      "proc\n",
      "root\n",
      "mnt\n",
      "home\n",
      "boot\n",
      "dev\n",
      "opt\n",
      "lib\n",
      "srv\n",
      "sys\n",
      "usr\n",
      "media\n",
      "var\n",
      "bin\n",
      "sbin\n",
      "tmp\n",
      "run\n",
      "notebook\n",
      "data\n"
     ]
    }
   ],
   "source": [
    "import os\n",
    "\n",
    "# Get the current working directory\n",
    "current_directory = os.getcwd()\n",
    "\n",
    "# Get the parent directory (directory above the current directory)\n",
    "parent_directory = os.path.dirname(current_directory)\n",
    "\n",
    "# List all folders in the parent directory\n",
    "folders_in_parent_directory = [folder for folder in os.listdir(parent_directory) if os.path.isdir(os.path.join(parent_directory, folder))]\n",
    "\n",
    "# Print the list of folders\n",
    "print(\"Folders in the parent directory:\")\n",
    "for folder in folders_in_parent_directory:\n",
    "    print(folder)\n"
   ]
  },
  {
   "cell_type": "code",
   "execution_count": 11,
   "id": "761fa497-e16f-4c1d-83e7-7cb8cfda5288",
   "metadata": {},
   "outputs": [
    {
     "name": "stdout",
     "output_type": "stream",
     "text": [
      "      petid     name    kind  gender  age  ownerid\n",
      "0   J6-8562  Blackie     Dog    male   11     5168\n",
      "1   Q0-2001   Roomba     Cat    male    9     5508\n",
      "2   M0-2904    Simba     Cat    male    1     3086\n",
      "3   R3-7551   Keller  Parrot  female    2     7908\n",
      "4   P2-7342  Cuddles     Dog    male   13     4378\n",
      "..      ...      ...     ...     ...  ...      ...\n",
      "95  U8-6473  Biscuit     Dog  female    3     1070\n",
      "96  I5-4893   Cookie     Cat  female    3     7340\n",
      "97  Q8-0954  Lakshmi     Cat  female    7     9385\n",
      "98  N0-9539  Swiffer     Cat    male   14     9365\n",
      "99  S5-5938      Taz     Dog    male    6     9427\n",
      "\n",
      "[100 rows x 6 columns]\n",
      "   ownerid     name     surname          streetaddress                 city  \\\n",
      "0     6049   Debbie    Metivier        315 Goff Avenue         Grand Rapids   \n",
      "1     2863     John   Sebastian      3221 Perry Street              Davison   \n",
      "2     3518   Connie      Pauley  1539 Cunningham Court  Bloomfield Township   \n",
      "3     3663     Lena  Haliburton   4217 Twin Oaks Drive        Traverse City   \n",
      "4     1070  Jessica   Velazquez   3861 Woodbridge Lane           Southfield   \n",
      "\n",
      "  state statefull  zipcode  \n",
      "0    MI  Michigan    49503  \n",
      "1    MI  Michigan    48423  \n",
      "2    MI  Michigan    48302  \n",
      "3    MI  Michigan    49684  \n",
      "4    MI  Michigan    48034  \n",
      "     petid        date    proceduretype  proceduresubcode\n",
      "0  A8-1181  2016-01-10     VACCINATIONS                 5\n",
      "1  E7-3766  2016-01-11     VACCINATIONS                 5\n",
      "2  B8-8740  2016-01-11     VACCINATIONS                 5\n",
      "3  D4-9443  2016-01-11     VACCINATIONS                 5\n",
      "4  F6-3398  2016-01-12  HOSPITALIZATION                 1\n"
     ]
    }
   ],
   "source": [
    "# Load the csv into a pandas dataframe (https://www.w3schools.com/python/pandas/pandas_dataframes.asp)\n",
    "pets_df = pd.read_csv(\"../data/Pets.csv\")\n",
    "\n",
    "print(pets_df)\n",
    "\n",
    "owners_df = pd.read_csv(\"../data/Owners.csv\", delimiter=\",\")\n",
    "print (owners_df.head())\n",
    "\n",
    "procedures_df = pd.read_csv(\"../data/ProceduresHistory.csv\", delimiter=\",\")\n",
    "print (procedures_df.head())"
   ]
  },
  {
   "cell_type": "markdown",
   "id": "06278d87-387b-4607-89ab-2d78eeafc1be",
   "metadata": {},
   "source": [
    "## Store data into database\n",
    "Save the contents in the world_population file to the a table called population in the database. "
   ]
  },
  {
   "cell_type": "code",
   "execution_count": 21,
   "id": "b086dcd4-80e9-4874-9c77-1887b8313716",
   "metadata": {},
   "outputs": [
    {
     "data": {
      "text/plain": [
       "284"
      ]
     },
     "execution_count": 21,
     "metadata": {},
     "output_type": "execute_result"
    }
   ],
   "source": [
    "engine = create_engine(\"postgresql://student:infomdss@db_dashboard:5432/dashboard\")\n",
    "\n",
    "\n",
    "with engine.connect() as conn:\n",
    "    conn.execute(text(\"DROP TABLE IF EXISTS pets CASCADE;\"))\n",
    "    conn.execute(text(\"DROP TABLE IF EXISTS owners CASCADE;\"))\n",
    "    conn.execute(text(\"DROP TABLE IF EXISTS procedures CASCADE;\"))\n",
    "\n",
    "pets_df.to_sql(\"pets\", engine, if_exists=\"replace\", index=True)\n",
    "owners_df.to_sql(\"owners\", engine, if_exists=\"replace\", index=True)\n",
    "procedures_df.to_sql(\"procedures\", engine, if_exists=\"replace\", index=True)"
   ]
  },
  {
   "cell_type": "markdown",
   "id": "c72e7287-6685-45f2-a7cd-52d367350439",
   "metadata": {},
   "source": [
    "## Fetch data from database\n",
    "Read the table **population** from the database in a dataframe. Make sure the index column is the index of the dataframe."
   ]
  },
  {
   "cell_type": "code",
   "execution_count": 27,
   "id": "722f1b18-5759-4267-83e1-b3fe2fa850e1",
   "metadata": {},
   "outputs": [
    {
     "name": "stdout",
     "output_type": "stream",
     "text": [
      "         petid        date    proceduretype  proceduresubcode\n",
      "index                                                        \n",
      "0      A8-1181  2016-01-10     VACCINATIONS                 5\n",
      "1      E7-3766  2016-01-11     VACCINATIONS                 5\n",
      "2      B8-8740  2016-01-11     VACCINATIONS                 5\n",
      "3      D4-9443  2016-01-11     VACCINATIONS                 5\n",
      "4      F6-3398  2016-01-12  HOSPITALIZATION                 1\n",
      "...        ...         ...              ...               ...\n",
      "2279   A4-2573  2016-12-30     VACCINATIONS                 5\n",
      "2280   B3-8317  2016-12-30     VACCINATIONS                 5\n",
      "2281   C5-4291  2016-12-30       ORTHOPEDIC                 3\n",
      "2282   C6-3299  2016-12-31     VACCINATIONS                 5\n",
      "2283   A1-3879  2016-12-31     VACCINATIONS                 5\n",
      "\n",
      "[2284 rows x 4 columns]\n",
      "         petid     name    kind  gender  age  ownerid\n",
      "index                                                \n",
      "0      J6-8562  Blackie     Dog    male   11     5168\n",
      "1      Q0-2001   Roomba     Cat    male    9     5508\n",
      "2      M0-2904    Simba     Cat    male    1     3086\n",
      "3      R3-7551   Keller  Parrot  female    2     7908\n",
      "4      P2-7342  Cuddles     Dog    male   13     4378\n",
      "...        ...      ...     ...     ...  ...      ...\n",
      "95     U8-6473  Biscuit     Dog  female    3     1070\n",
      "96     I5-4893   Cookie     Cat  female    3     7340\n",
      "97     Q8-0954  Lakshmi     Cat  female    7     9385\n",
      "98     N0-9539  Swiffer     Cat    male   14     9365\n",
      "99     S5-5938      Taz     Dog    male    6     9427\n",
      "\n",
      "[100 rows x 6 columns]\n",
      "       ownerid     name     surname          streetaddress  \\\n",
      "index                                                        \n",
      "0         6049   Debbie    Metivier        315 Goff Avenue   \n",
      "1         2863     John   Sebastian      3221 Perry Street   \n",
      "2         3518   Connie      Pauley  1539 Cunningham Court   \n",
      "3         3663     Lena  Haliburton   4217 Twin Oaks Drive   \n",
      "4         1070  Jessica   Velazquez   3861 Woodbridge Lane   \n",
      "...        ...      ...         ...                    ...   \n",
      "84        2103   Robert      Adkins      2102 Perry Street   \n",
      "85        4464   Daniel     Nielson      4876 Tully Street   \n",
      "86        5737    Alden    McMiller  3111 Tennessee Avenue   \n",
      "87        9850     Gary      Snider       3139 Nash Street   \n",
      "88        1546   Joseph        Blow           556 D Street   \n",
      "\n",
      "                      city state statefull  zipcode  \n",
      "index                                                \n",
      "0             Grand Rapids    MI  Michigan    49503  \n",
      "1                  Davison    MI  Michigan    48423  \n",
      "2      Bloomfield Township    MI  Michigan    48302  \n",
      "3            Traverse City    MI  Michigan    49684  \n",
      "4               Southfield    MI  Michigan    48034  \n",
      "...                    ...   ...       ...      ...  \n",
      "84                   Flint    MI  Michigan    48548  \n",
      "85                 Detroit    MI  Michigan    48219  \n",
      "86                 Pontiac    MI  Michigan    48342  \n",
      "87                 Detroit    MI  Michigan    48227  \n",
      "88              Southfield    MI  Michigan    48075  \n",
      "\n",
      "[89 rows x 8 columns]\n"
     ]
    }
   ],
   "source": [
    "procedures_table = pd.read_sql_table('procedures', engine, index_col='index')\n",
    "print(procedures_table)\n",
    "\n",
    "procedures_table = pd.read_sql_table('pets', engine, index_col='index')\n",
    "print(procedures_table)\n",
    "\n",
    "procedures_table = pd.read_sql_table('owners', engine, index_col='index')\n",
    "print(procedures_table)"
   ]
  },
  {
   "cell_type": "code",
   "execution_count": 33,
   "id": "8a6d615e-0d89-4bdb-b686-a3a191546450",
   "metadata": {},
   "outputs": [
    {
     "ename": "ProgrammingError",
     "evalue": "(psycopg2.errors.UndefinedTable) missing FROM-clause entry for table \"owner\"\nLINE 1: ...cedures.petid INNER JOIN owners ON pets.ownerid = owner.owne...\n                                                             ^\n\n[SQL: SELECT * FROM pets INNER JOIN procedures ON pets.petid = procedures.petid INNER JOIN owners ON pets.ownerid = owner.ownerid]\n(Background on this error at: https://sqlalche.me/e/20/f405)",
     "output_type": "error",
     "traceback": [
      "\u001b[0;31m---------------------------------------------------------------------------\u001b[0m",
      "\u001b[0;31mUndefinedTable\u001b[0m                            Traceback (most recent call last)",
      "File \u001b[0;32m/opt/conda/lib/python3.11/site-packages/sqlalchemy/engine/base.py:1965\u001b[0m, in \u001b[0;36mConnection._exec_single_context\u001b[0;34m(self, dialect, context, statement, parameters)\u001b[0m\n\u001b[1;32m   1964\u001b[0m     \u001b[38;5;28;01mif\u001b[39;00m \u001b[38;5;129;01mnot\u001b[39;00m evt_handled:\n\u001b[0;32m-> 1965\u001b[0m         \u001b[38;5;28;43mself\u001b[39;49m\u001b[38;5;241;43m.\u001b[39;49m\u001b[43mdialect\u001b[49m\u001b[38;5;241;43m.\u001b[39;49m\u001b[43mdo_execute\u001b[49m\u001b[43m(\u001b[49m\n\u001b[1;32m   1966\u001b[0m \u001b[43m            \u001b[49m\u001b[43mcursor\u001b[49m\u001b[43m,\u001b[49m\u001b[43m \u001b[49m\u001b[43mstr_statement\u001b[49m\u001b[43m,\u001b[49m\u001b[43m \u001b[49m\u001b[43meffective_parameters\u001b[49m\u001b[43m,\u001b[49m\u001b[43m \u001b[49m\u001b[43mcontext\u001b[49m\n\u001b[1;32m   1967\u001b[0m \u001b[43m        \u001b[49m\u001b[43m)\u001b[49m\n\u001b[1;32m   1969\u001b[0m \u001b[38;5;28;01mif\u001b[39;00m \u001b[38;5;28mself\u001b[39m\u001b[38;5;241m.\u001b[39m_has_events \u001b[38;5;129;01mor\u001b[39;00m \u001b[38;5;28mself\u001b[39m\u001b[38;5;241m.\u001b[39mengine\u001b[38;5;241m.\u001b[39m_has_events:\n",
      "File \u001b[0;32m/opt/conda/lib/python3.11/site-packages/sqlalchemy/engine/default.py:921\u001b[0m, in \u001b[0;36mDefaultDialect.do_execute\u001b[0;34m(self, cursor, statement, parameters, context)\u001b[0m\n\u001b[1;32m    920\u001b[0m \u001b[38;5;28;01mdef\u001b[39;00m \u001b[38;5;21mdo_execute\u001b[39m(\u001b[38;5;28mself\u001b[39m, cursor, statement, parameters, context\u001b[38;5;241m=\u001b[39m\u001b[38;5;28;01mNone\u001b[39;00m):\n\u001b[0;32m--> 921\u001b[0m     \u001b[43mcursor\u001b[49m\u001b[38;5;241;43m.\u001b[39;49m\u001b[43mexecute\u001b[49m\u001b[43m(\u001b[49m\u001b[43mstatement\u001b[49m\u001b[43m,\u001b[49m\u001b[43m \u001b[49m\u001b[43mparameters\u001b[49m\u001b[43m)\u001b[49m\n",
      "\u001b[0;31mUndefinedTable\u001b[0m: missing FROM-clause entry for table \"owner\"\nLINE 1: ...cedures.petid INNER JOIN owners ON pets.ownerid = owner.owne...\n                                                             ^\n",
      "\nThe above exception was the direct cause of the following exception:\n",
      "\u001b[0;31mProgrammingError\u001b[0m                          Traceback (most recent call last)",
      "Cell \u001b[0;32mIn[33], line 1\u001b[0m\n\u001b[0;32m----> 1\u001b[0m procedures \u001b[38;5;241m=\u001b[39m \u001b[43mpd\u001b[49m\u001b[38;5;241;43m.\u001b[39;49m\u001b[43mread_sql\u001b[49m\u001b[43m(\u001b[49m\u001b[38;5;124;43m'\u001b[39;49m\u001b[38;5;124;43mSELECT * FROM pets INNER JOIN procedures ON pets.petid = procedures.petid INNER JOIN owners ON pets.ownerid = owner.ownerid\u001b[39;49m\u001b[38;5;124;43m'\u001b[39;49m\u001b[43m,\u001b[49m\u001b[43m \u001b[49m\u001b[43mengine\u001b[49m\u001b[43m)\u001b[49m\n\u001b[1;32m      2\u001b[0m \u001b[38;5;28mprint\u001b[39m(procedures)\n",
      "File \u001b[0;32m/opt/conda/lib/python3.11/site-packages/pandas/io/sql.py:682\u001b[0m, in \u001b[0;36mread_sql\u001b[0;34m(sql, con, index_col, coerce_float, params, parse_dates, columns, chunksize, dtype_backend, dtype)\u001b[0m\n\u001b[1;32m    672\u001b[0m     \u001b[38;5;28;01mreturn\u001b[39;00m pandas_sql\u001b[38;5;241m.\u001b[39mread_table(\n\u001b[1;32m    673\u001b[0m         sql,\n\u001b[1;32m    674\u001b[0m         index_col\u001b[38;5;241m=\u001b[39mindex_col,\n\u001b[0;32m   (...)\u001b[0m\n\u001b[1;32m    679\u001b[0m         dtype_backend\u001b[38;5;241m=\u001b[39mdtype_backend,\n\u001b[1;32m    680\u001b[0m     )\n\u001b[1;32m    681\u001b[0m \u001b[38;5;28;01melse\u001b[39;00m:\n\u001b[0;32m--> 682\u001b[0m     \u001b[38;5;28;01mreturn\u001b[39;00m \u001b[43mpandas_sql\u001b[49m\u001b[38;5;241;43m.\u001b[39;49m\u001b[43mread_query\u001b[49m\u001b[43m(\u001b[49m\n\u001b[1;32m    683\u001b[0m \u001b[43m        \u001b[49m\u001b[43msql\u001b[49m\u001b[43m,\u001b[49m\n\u001b[1;32m    684\u001b[0m \u001b[43m        \u001b[49m\u001b[43mindex_col\u001b[49m\u001b[38;5;241;43m=\u001b[39;49m\u001b[43mindex_col\u001b[49m\u001b[43m,\u001b[49m\n\u001b[1;32m    685\u001b[0m \u001b[43m        \u001b[49m\u001b[43mparams\u001b[49m\u001b[38;5;241;43m=\u001b[39;49m\u001b[43mparams\u001b[49m\u001b[43m,\u001b[49m\n\u001b[1;32m    686\u001b[0m \u001b[43m        \u001b[49m\u001b[43mcoerce_float\u001b[49m\u001b[38;5;241;43m=\u001b[39;49m\u001b[43mcoerce_float\u001b[49m\u001b[43m,\u001b[49m\n\u001b[1;32m    687\u001b[0m \u001b[43m        \u001b[49m\u001b[43mparse_dates\u001b[49m\u001b[38;5;241;43m=\u001b[39;49m\u001b[43mparse_dates\u001b[49m\u001b[43m,\u001b[49m\n\u001b[1;32m    688\u001b[0m \u001b[43m        \u001b[49m\u001b[43mchunksize\u001b[49m\u001b[38;5;241;43m=\u001b[39;49m\u001b[43mchunksize\u001b[49m\u001b[43m,\u001b[49m\n\u001b[1;32m    689\u001b[0m \u001b[43m        \u001b[49m\u001b[43mdtype_backend\u001b[49m\u001b[38;5;241;43m=\u001b[39;49m\u001b[43mdtype_backend\u001b[49m\u001b[43m,\u001b[49m\n\u001b[1;32m    690\u001b[0m \u001b[43m        \u001b[49m\u001b[43mdtype\u001b[49m\u001b[38;5;241;43m=\u001b[39;49m\u001b[43mdtype\u001b[49m\u001b[43m,\u001b[49m\n\u001b[1;32m    691\u001b[0m \u001b[43m    \u001b[49m\u001b[43m)\u001b[49m\n",
      "File \u001b[0;32m/opt/conda/lib/python3.11/site-packages/pandas/io/sql.py:1776\u001b[0m, in \u001b[0;36mSQLDatabase.read_query\u001b[0;34m(self, sql, index_col, coerce_float, parse_dates, params, chunksize, dtype, dtype_backend)\u001b[0m\n\u001b[1;32m   1719\u001b[0m \u001b[38;5;28;01mdef\u001b[39;00m \u001b[38;5;21mread_query\u001b[39m(\n\u001b[1;32m   1720\u001b[0m     \u001b[38;5;28mself\u001b[39m,\n\u001b[1;32m   1721\u001b[0m     sql: \u001b[38;5;28mstr\u001b[39m,\n\u001b[0;32m   (...)\u001b[0m\n\u001b[1;32m   1728\u001b[0m     dtype_backend: DtypeBackend \u001b[38;5;241m|\u001b[39m Literal[\u001b[38;5;124m\"\u001b[39m\u001b[38;5;124mnumpy\u001b[39m\u001b[38;5;124m\"\u001b[39m] \u001b[38;5;241m=\u001b[39m \u001b[38;5;124m\"\u001b[39m\u001b[38;5;124mnumpy\u001b[39m\u001b[38;5;124m\"\u001b[39m,\n\u001b[1;32m   1729\u001b[0m ) \u001b[38;5;241m-\u001b[39m\u001b[38;5;241m>\u001b[39m DataFrame \u001b[38;5;241m|\u001b[39m Iterator[DataFrame]:\n\u001b[1;32m   1730\u001b[0m \u001b[38;5;250m    \u001b[39m\u001b[38;5;124;03m\"\"\"\u001b[39;00m\n\u001b[1;32m   1731\u001b[0m \u001b[38;5;124;03m    Read SQL query into a DataFrame.\u001b[39;00m\n\u001b[1;32m   1732\u001b[0m \n\u001b[0;32m   (...)\u001b[0m\n\u001b[1;32m   1774\u001b[0m \n\u001b[1;32m   1775\u001b[0m \u001b[38;5;124;03m    \"\"\"\u001b[39;00m\n\u001b[0;32m-> 1776\u001b[0m     result \u001b[38;5;241m=\u001b[39m \u001b[38;5;28;43mself\u001b[39;49m\u001b[38;5;241;43m.\u001b[39;49m\u001b[43mexecute\u001b[49m\u001b[43m(\u001b[49m\u001b[43msql\u001b[49m\u001b[43m,\u001b[49m\u001b[43m \u001b[49m\u001b[43mparams\u001b[49m\u001b[43m)\u001b[49m\n\u001b[1;32m   1777\u001b[0m     columns \u001b[38;5;241m=\u001b[39m result\u001b[38;5;241m.\u001b[39mkeys()\n\u001b[1;32m   1779\u001b[0m     \u001b[38;5;28;01mif\u001b[39;00m chunksize \u001b[38;5;129;01mis\u001b[39;00m \u001b[38;5;129;01mnot\u001b[39;00m \u001b[38;5;28;01mNone\u001b[39;00m:\n",
      "File \u001b[0;32m/opt/conda/lib/python3.11/site-packages/pandas/io/sql.py:1599\u001b[0m, in \u001b[0;36mSQLDatabase.execute\u001b[0;34m(self, sql, params)\u001b[0m\n\u001b[1;32m   1597\u001b[0m args \u001b[38;5;241m=\u001b[39m [] \u001b[38;5;28;01mif\u001b[39;00m params \u001b[38;5;129;01mis\u001b[39;00m \u001b[38;5;28;01mNone\u001b[39;00m \u001b[38;5;28;01melse\u001b[39;00m [params]\n\u001b[1;32m   1598\u001b[0m \u001b[38;5;28;01mif\u001b[39;00m \u001b[38;5;28misinstance\u001b[39m(sql, \u001b[38;5;28mstr\u001b[39m):\n\u001b[0;32m-> 1599\u001b[0m     \u001b[38;5;28;01mreturn\u001b[39;00m \u001b[38;5;28;43mself\u001b[39;49m\u001b[38;5;241;43m.\u001b[39;49m\u001b[43mcon\u001b[49m\u001b[38;5;241;43m.\u001b[39;49m\u001b[43mexec_driver_sql\u001b[49m\u001b[43m(\u001b[49m\u001b[43msql\u001b[49m\u001b[43m,\u001b[49m\u001b[43m \u001b[49m\u001b[38;5;241;43m*\u001b[39;49m\u001b[43margs\u001b[49m\u001b[43m)\u001b[49m\n\u001b[1;32m   1600\u001b[0m \u001b[38;5;28;01mreturn\u001b[39;00m \u001b[38;5;28mself\u001b[39m\u001b[38;5;241m.\u001b[39mcon\u001b[38;5;241m.\u001b[39mexecute(sql, \u001b[38;5;241m*\u001b[39margs)\n",
      "File \u001b[0;32m/opt/conda/lib/python3.11/site-packages/sqlalchemy/engine/base.py:1774\u001b[0m, in \u001b[0;36mConnection.exec_driver_sql\u001b[0;34m(self, statement, parameters, execution_options)\u001b[0m\n\u001b[1;32m   1769\u001b[0m execution_options \u001b[38;5;241m=\u001b[39m \u001b[38;5;28mself\u001b[39m\u001b[38;5;241m.\u001b[39m_execution_options\u001b[38;5;241m.\u001b[39mmerge_with(\n\u001b[1;32m   1770\u001b[0m     execution_options\n\u001b[1;32m   1771\u001b[0m )\n\u001b[1;32m   1773\u001b[0m dialect \u001b[38;5;241m=\u001b[39m \u001b[38;5;28mself\u001b[39m\u001b[38;5;241m.\u001b[39mdialect\n\u001b[0;32m-> 1774\u001b[0m ret \u001b[38;5;241m=\u001b[39m \u001b[38;5;28;43mself\u001b[39;49m\u001b[38;5;241;43m.\u001b[39;49m\u001b[43m_execute_context\u001b[49m\u001b[43m(\u001b[49m\n\u001b[1;32m   1775\u001b[0m \u001b[43m    \u001b[49m\u001b[43mdialect\u001b[49m\u001b[43m,\u001b[49m\n\u001b[1;32m   1776\u001b[0m \u001b[43m    \u001b[49m\u001b[43mdialect\u001b[49m\u001b[38;5;241;43m.\u001b[39;49m\u001b[43mexecution_ctx_cls\u001b[49m\u001b[38;5;241;43m.\u001b[39;49m\u001b[43m_init_statement\u001b[49m\u001b[43m,\u001b[49m\n\u001b[1;32m   1777\u001b[0m \u001b[43m    \u001b[49m\u001b[43mstatement\u001b[49m\u001b[43m,\u001b[49m\n\u001b[1;32m   1778\u001b[0m \u001b[43m    \u001b[49m\u001b[38;5;28;43;01mNone\u001b[39;49;00m\u001b[43m,\u001b[49m\n\u001b[1;32m   1779\u001b[0m \u001b[43m    \u001b[49m\u001b[43mexecution_options\u001b[49m\u001b[43m,\u001b[49m\n\u001b[1;32m   1780\u001b[0m \u001b[43m    \u001b[49m\u001b[43mstatement\u001b[49m\u001b[43m,\u001b[49m\n\u001b[1;32m   1781\u001b[0m \u001b[43m    \u001b[49m\u001b[43mdistilled_parameters\u001b[49m\u001b[43m,\u001b[49m\n\u001b[1;32m   1782\u001b[0m \u001b[43m\u001b[49m\u001b[43m)\u001b[49m\n\u001b[1;32m   1784\u001b[0m \u001b[38;5;28;01mreturn\u001b[39;00m ret\n",
      "File \u001b[0;32m/opt/conda/lib/python3.11/site-packages/sqlalchemy/engine/base.py:1844\u001b[0m, in \u001b[0;36mConnection._execute_context\u001b[0;34m(self, dialect, constructor, statement, parameters, execution_options, *args, **kw)\u001b[0m\n\u001b[1;32m   1839\u001b[0m     \u001b[38;5;28;01mreturn\u001b[39;00m \u001b[38;5;28mself\u001b[39m\u001b[38;5;241m.\u001b[39m_exec_insertmany_context(\n\u001b[1;32m   1840\u001b[0m         dialect,\n\u001b[1;32m   1841\u001b[0m         context,\n\u001b[1;32m   1842\u001b[0m     )\n\u001b[1;32m   1843\u001b[0m \u001b[38;5;28;01melse\u001b[39;00m:\n\u001b[0;32m-> 1844\u001b[0m     \u001b[38;5;28;01mreturn\u001b[39;00m \u001b[38;5;28;43mself\u001b[39;49m\u001b[38;5;241;43m.\u001b[39;49m\u001b[43m_exec_single_context\u001b[49m\u001b[43m(\u001b[49m\n\u001b[1;32m   1845\u001b[0m \u001b[43m        \u001b[49m\u001b[43mdialect\u001b[49m\u001b[43m,\u001b[49m\u001b[43m \u001b[49m\u001b[43mcontext\u001b[49m\u001b[43m,\u001b[49m\u001b[43m \u001b[49m\u001b[43mstatement\u001b[49m\u001b[43m,\u001b[49m\u001b[43m \u001b[49m\u001b[43mparameters\u001b[49m\n\u001b[1;32m   1846\u001b[0m \u001b[43m    \u001b[49m\u001b[43m)\u001b[49m\n",
      "File \u001b[0;32m/opt/conda/lib/python3.11/site-packages/sqlalchemy/engine/base.py:1984\u001b[0m, in \u001b[0;36mConnection._exec_single_context\u001b[0;34m(self, dialect, context, statement, parameters)\u001b[0m\n\u001b[1;32m   1981\u001b[0m     result \u001b[38;5;241m=\u001b[39m context\u001b[38;5;241m.\u001b[39m_setup_result_proxy()\n\u001b[1;32m   1983\u001b[0m \u001b[38;5;28;01mexcept\u001b[39;00m \u001b[38;5;167;01mBaseException\u001b[39;00m \u001b[38;5;28;01mas\u001b[39;00m e:\n\u001b[0;32m-> 1984\u001b[0m     \u001b[38;5;28;43mself\u001b[39;49m\u001b[38;5;241;43m.\u001b[39;49m\u001b[43m_handle_dbapi_exception\u001b[49m\u001b[43m(\u001b[49m\n\u001b[1;32m   1985\u001b[0m \u001b[43m        \u001b[49m\u001b[43me\u001b[49m\u001b[43m,\u001b[49m\u001b[43m \u001b[49m\u001b[43mstr_statement\u001b[49m\u001b[43m,\u001b[49m\u001b[43m \u001b[49m\u001b[43meffective_parameters\u001b[49m\u001b[43m,\u001b[49m\u001b[43m \u001b[49m\u001b[43mcursor\u001b[49m\u001b[43m,\u001b[49m\u001b[43m \u001b[49m\u001b[43mcontext\u001b[49m\n\u001b[1;32m   1986\u001b[0m \u001b[43m    \u001b[49m\u001b[43m)\u001b[49m\n\u001b[1;32m   1988\u001b[0m \u001b[38;5;28;01mreturn\u001b[39;00m result\n",
      "File \u001b[0;32m/opt/conda/lib/python3.11/site-packages/sqlalchemy/engine/base.py:2339\u001b[0m, in \u001b[0;36mConnection._handle_dbapi_exception\u001b[0;34m(self, e, statement, parameters, cursor, context, is_sub_exec)\u001b[0m\n\u001b[1;32m   2337\u001b[0m \u001b[38;5;28;01melif\u001b[39;00m should_wrap:\n\u001b[1;32m   2338\u001b[0m     \u001b[38;5;28;01massert\u001b[39;00m sqlalchemy_exception \u001b[38;5;129;01mis\u001b[39;00m \u001b[38;5;129;01mnot\u001b[39;00m \u001b[38;5;28;01mNone\u001b[39;00m\n\u001b[0;32m-> 2339\u001b[0m     \u001b[38;5;28;01mraise\u001b[39;00m sqlalchemy_exception\u001b[38;5;241m.\u001b[39mwith_traceback(exc_info[\u001b[38;5;241m2\u001b[39m]) \u001b[38;5;28;01mfrom\u001b[39;00m \u001b[38;5;21;01me\u001b[39;00m\n\u001b[1;32m   2340\u001b[0m \u001b[38;5;28;01melse\u001b[39;00m:\n\u001b[1;32m   2341\u001b[0m     \u001b[38;5;28;01massert\u001b[39;00m exc_info[\u001b[38;5;241m1\u001b[39m] \u001b[38;5;129;01mis\u001b[39;00m \u001b[38;5;129;01mnot\u001b[39;00m \u001b[38;5;28;01mNone\u001b[39;00m\n",
      "File \u001b[0;32m/opt/conda/lib/python3.11/site-packages/sqlalchemy/engine/base.py:1965\u001b[0m, in \u001b[0;36mConnection._exec_single_context\u001b[0;34m(self, dialect, context, statement, parameters)\u001b[0m\n\u001b[1;32m   1963\u001b[0m                 \u001b[38;5;28;01mbreak\u001b[39;00m\n\u001b[1;32m   1964\u001b[0m     \u001b[38;5;28;01mif\u001b[39;00m \u001b[38;5;129;01mnot\u001b[39;00m evt_handled:\n\u001b[0;32m-> 1965\u001b[0m         \u001b[38;5;28;43mself\u001b[39;49m\u001b[38;5;241;43m.\u001b[39;49m\u001b[43mdialect\u001b[49m\u001b[38;5;241;43m.\u001b[39;49m\u001b[43mdo_execute\u001b[49m\u001b[43m(\u001b[49m\n\u001b[1;32m   1966\u001b[0m \u001b[43m            \u001b[49m\u001b[43mcursor\u001b[49m\u001b[43m,\u001b[49m\u001b[43m \u001b[49m\u001b[43mstr_statement\u001b[49m\u001b[43m,\u001b[49m\u001b[43m \u001b[49m\u001b[43meffective_parameters\u001b[49m\u001b[43m,\u001b[49m\u001b[43m \u001b[49m\u001b[43mcontext\u001b[49m\n\u001b[1;32m   1967\u001b[0m \u001b[43m        \u001b[49m\u001b[43m)\u001b[49m\n\u001b[1;32m   1969\u001b[0m \u001b[38;5;28;01mif\u001b[39;00m \u001b[38;5;28mself\u001b[39m\u001b[38;5;241m.\u001b[39m_has_events \u001b[38;5;129;01mor\u001b[39;00m \u001b[38;5;28mself\u001b[39m\u001b[38;5;241m.\u001b[39mengine\u001b[38;5;241m.\u001b[39m_has_events:\n\u001b[1;32m   1970\u001b[0m     \u001b[38;5;28mself\u001b[39m\u001b[38;5;241m.\u001b[39mdispatch\u001b[38;5;241m.\u001b[39mafter_cursor_execute(\n\u001b[1;32m   1971\u001b[0m         \u001b[38;5;28mself\u001b[39m,\n\u001b[1;32m   1972\u001b[0m         cursor,\n\u001b[0;32m   (...)\u001b[0m\n\u001b[1;32m   1976\u001b[0m         context\u001b[38;5;241m.\u001b[39mexecutemany,\n\u001b[1;32m   1977\u001b[0m     )\n",
      "File \u001b[0;32m/opt/conda/lib/python3.11/site-packages/sqlalchemy/engine/default.py:921\u001b[0m, in \u001b[0;36mDefaultDialect.do_execute\u001b[0;34m(self, cursor, statement, parameters, context)\u001b[0m\n\u001b[1;32m    920\u001b[0m \u001b[38;5;28;01mdef\u001b[39;00m \u001b[38;5;21mdo_execute\u001b[39m(\u001b[38;5;28mself\u001b[39m, cursor, statement, parameters, context\u001b[38;5;241m=\u001b[39m\u001b[38;5;28;01mNone\u001b[39;00m):\n\u001b[0;32m--> 921\u001b[0m     \u001b[43mcursor\u001b[49m\u001b[38;5;241;43m.\u001b[39;49m\u001b[43mexecute\u001b[49m\u001b[43m(\u001b[49m\u001b[43mstatement\u001b[49m\u001b[43m,\u001b[49m\u001b[43m \u001b[49m\u001b[43mparameters\u001b[49m\u001b[43m)\u001b[49m\n",
      "\u001b[0;31mProgrammingError\u001b[0m: (psycopg2.errors.UndefinedTable) missing FROM-clause entry for table \"owner\"\nLINE 1: ...cedures.petid INNER JOIN owners ON pets.ownerid = owner.owne...\n                                                             ^\n\n[SQL: SELECT * FROM pets INNER JOIN procedures ON pets.petid = procedures.petid INNER JOIN owners ON pets.ownerid = owner.ownerid]\n(Background on this error at: https://sqlalche.me/e/20/f405)"
     ]
    }
   ],
   "source": [
    "procedures = pd.read_sql('SELECT * FROM pets INNER JOIN procedures ON pets.petid = procedures.petid INNER JOIN owners ON pets.ownerid = owner.ownerid', engine)\n",
    "print(procedures)"
   ]
  },
  {
   "cell_type": "code",
   "execution_count": null,
   "id": "b6b0b073-80c9-4b31-aebe-a568642f6896",
   "metadata": {},
   "outputs": [],
   "source": []
  }
 ],
 "metadata": {
  "kernelspec": {
   "display_name": "Python 3 (ipykernel)",
   "language": "python",
   "name": "python3"
  },
  "language_info": {
   "codemirror_mode": {
    "name": "ipython",
    "version": 3
   },
   "file_extension": ".py",
   "mimetype": "text/x-python",
   "name": "python",
   "nbconvert_exporter": "python",
   "pygments_lexer": "ipython3",
   "version": "3.11.5"
  }
 },
 "nbformat": 4,
 "nbformat_minor": 5
}
