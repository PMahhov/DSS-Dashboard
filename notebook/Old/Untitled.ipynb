{
 "cells": [
  {
   "cell_type": "markdown",
   "id": "c24d2abc-3e0d-4f59-af2b-6514f56eecf0",
   "metadata": {},
   "source": [
    "# Statistics and data preprocessing\n",
    "## Question 3"
   ]
  },
  {
   "cell_type": "code",
   "execution_count": 39,
   "id": "fcbb47e4-f38e-4421-ada3-ba701bacec25",
   "metadata": {},
   "outputs": [],
   "source": [
    "import pandas as pd\n",
    "import numpy as np\n",
    "import scipy\n",
    "from sklearn.linear_model import LinearRegression"
   ]
  },
  {
   "cell_type": "code",
   "execution_count": 9,
   "id": "be555443-d9f3-4d42-bb83-32c80d309e17",
   "metadata": {},
   "outputs": [],
   "source": [
    "def kl_divergence(p, q):\n",
    "    return np.sum(np.where(p != 0, p * np.log(p/q),0))\n"
   ]
  },
  {
   "cell_type": "code",
   "execution_count": 11,
   "id": "48e6dbca-9ef7-46b5-a107-8f211550334a",
   "metadata": {},
   "outputs": [
    {
     "name": "stdout",
     "output_type": "stream",
     "text": [
      "  Products  Worldwide  Netherlands  Italy\n",
      "0        A        0.4         0.40    0.5\n",
      "1        B        0.3         0.35    0.3\n",
      "2        C        0.3         0.25    0.2\n"
     ]
    }
   ],
   "source": [
    "d = {\n",
    "    'Products': ['A', 'B', 'C'],\n",
    "    'Worldwide': [0.4, 0.3, 0.3],\n",
    "    'Netherlands': [0.4, 0.35, 0.25],\n",
    "    'Italy': [0.5, 0.3, 0.2]\n",
    "}\n",
    "df = pd.DataFrame(data=d)\n",
    "print(df)"
   ]
  },
  {
   "cell_type": "code",
   "execution_count": 12,
   "id": "35d900dd-1059-4853-9629-9328a0fcaa3e",
   "metadata": {},
   "outputs": [
    {
     "name": "stdout",
     "output_type": "stream",
     "text": [
      "0.00845126309000891\n"
     ]
    }
   ],
   "source": [
    "print(kl_divergence(df['Worldwide'], df['Netherlands']))"
   ]
  },
  {
   "cell_type": "code",
   "execution_count": 13,
   "id": "3119ac30-7760-4472-b38b-b3a7dfcce164",
   "metadata": {},
   "outputs": [
    {
     "name": "stdout",
     "output_type": "stream",
     "text": [
      "0.032382111906765376\n"
     ]
    }
   ],
   "source": [
    "print(kl_divergence(df['Worldwide'], df['Italy']))"
   ]
  },
  {
   "cell_type": "markdown",
   "id": "b508f879-0a64-4d3d-8d82-8f2d47a1a660",
   "metadata": {},
   "source": [
    "# Question 4"
   ]
  },
  {
   "cell_type": "code",
   "execution_count": 27,
   "id": "9e9330c4-af14-4712-b2ed-766d656d1a41",
   "metadata": {},
   "outputs": [
    {
     "name": "stdout",
     "output_type": "stream",
     "text": [
      "  Periods    X     Y\n",
      "0       1  0.1  0.90\n",
      "1       2  0.4  0.30\n",
      "2       3  0.5  0.20\n",
      "3       4  0.8  0.21\n",
      "4       5  0.9  0.10\n"
     ]
    }
   ],
   "source": [
    "d = {\n",
    "    'Periods': ['1', '2', '3', '4', '5'],\n",
    "    'X': [0.1, 0.4, 0.5, 0.8, 0.9],\n",
    "    'Y': [0.9, 0.3, 0.2, 0.21, 0.1],\n",
    "}\n",
    "df = pd.DataFrame(data=d)\n",
    "print(df)"
   ]
  },
  {
   "cell_type": "code",
   "execution_count": 31,
   "id": "d2300686-b6a9-4891-883e-53e4a0414923",
   "metadata": {},
   "outputs": [
    {
     "name": "stdout",
     "output_type": "stream",
     "text": [
      "0    0.1\n",
      "1    0.4\n",
      "2    0.5\n",
      "3    0.8\n",
      "4    0.9\n",
      "Name: X, dtype: float64\n",
      "0    0.90\n",
      "1    0.30\n",
      "2    0.20\n",
      "3    0.21\n",
      "4    0.10\n",
      "Name: Y, dtype: float64\n"
     ]
    }
   ],
   "source": [
    "pX = df['X']\n",
    "print(pX)\n",
    "\n",
    "pY = df['Y']\n",
    "print(pY)"
   ]
  },
  {
   "cell_type": "code",
   "execution_count": 34,
   "id": "047ea8e9-16e0-4c5e-b763-1f4cd84cf192",
   "metadata": {},
   "outputs": [
    {
     "name": "stdout",
     "output_type": "stream",
     "text": [
      "X Cov 0.10300000000000001\n",
      "Y Cov 0.10232000000000001\n"
     ]
    }
   ],
   "source": [
    "print('X Cov', np.cov(pX))\n",
    "print('Y Cov', np.cov(pY))"
   ]
  },
  {
   "cell_type": "code",
   "execution_count": 35,
   "id": "f97a7f0f-ed12-4337-847f-09e2b4ff6de4",
   "metadata": {},
   "outputs": [
    {
     "name": "stdout",
     "output_type": "stream",
     "text": [
      "PearsonRResult(statistic=-0.8654830244367913, pvalue=0.05801449914353504)\n"
     ]
    }
   ],
   "source": [
    "print(scipy.stats.pearsonr(pX, pY))"
   ]
  },
  {
   "cell_type": "code",
   "execution_count": 36,
   "id": "5d8936bf-46e2-4ec8-b997-f8e8a9e67789",
   "metadata": {},
   "outputs": [
    {
     "name": "stdout",
     "output_type": "stream",
     "text": [
      "SignificanceResult(statistic=-0.8999999999999998, pvalue=0.03738607346849875)\n"
     ]
    }
   ],
   "source": [
    "print(scipy.stats.spearmanr(pX, pY))"
   ]
  },
  {
   "cell_type": "code",
   "execution_count": 50,
   "id": "f0ec3cf0-ea89-47f5-b704-b62d82458b35",
   "metadata": {},
   "outputs": [
    {
     "name": "stdout",
     "output_type": "stream",
     "text": [
      "[0.7215534  0.46276699 0.37650485 0.11771845 0.03145631]\n",
      "[0.9  0.3  0.2  0.21 0.1 ]\n"
     ]
    }
   ],
   "source": [
    "# Convert DataFrame to NumPy arrays\n",
    "df = pd.DataFrame(d)\n",
    "X = df['X'].values.reshape(-1, 1)  # Feature (independent variable)\n",
    "Y = df['Y'].values  # Target variable (dependent variable)\n",
    "\n",
    "# Create a linear regression model\n",
    "model = LinearRegression()\n",
    "\n",
    "# Fit the model to the data\n",
    "model.fit(X, Y)\n",
    "\n",
    "# Make predictions\n",
    "Y_pred = model.predict(X)\n",
    "\n",
    "print(Y_pred)\n",
    "print(pY.values)"
   ]
  },
  {
   "cell_type": "code",
   "execution_count": null,
   "id": "97081bb6-d374-49bb-a5d0-fee230903cfd",
   "metadata": {},
   "outputs": [],
   "source": []
  }
 ],
 "metadata": {
  "kernelspec": {
   "display_name": "Python 3 (ipykernel)",
   "language": "python",
   "name": "python3"
  },
  "language_info": {
   "codemirror_mode": {
    "name": "ipython",
    "version": 3
   },
   "file_extension": ".py",
   "mimetype": "text/x-python",
   "name": "python",
   "nbconvert_exporter": "python",
   "pygments_lexer": "ipython3",
   "version": "3.11.5"
  }
 },
 "nbformat": 4,
 "nbformat_minor": 5
}
