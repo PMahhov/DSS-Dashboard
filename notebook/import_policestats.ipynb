{
 "cells": [
  {
   "cell_type": "markdown",
   "id": "dab306e3",
   "metadata": {},
   "source": [
    "# Import Neighboorhoods file"
   ]
  },
  {
   "cell_type": "markdown",
   "id": "ef17bea2-3e2e-465d-908c-c5dd3429e282",
   "metadata": {},
   "source": [
    "This Docker container may serve as a starting point for your course project.\n",
    "It includes a set of simple instructions to:\n",
    "<br>\n",
    " -> load a dataset (locally)\n",
    " <br>\n",
    " -> into a database\n",
    " <br>\n",
    " -> and be able to query data from the database\n",
    " <br>\n",
    " -> and make simple visualizations on the queried data"
   ]
  },
  {
   "cell_type": "code",
   "execution_count": 2,
   "id": "603f88b8",
   "metadata": {},
   "outputs": [],
   "source": [
    "# Imports\n",
    "\n",
    "from sqlalchemy import create_engine, text, inspect, Table\n",
    "import pandas as pd"
   ]
  },
  {
   "cell_type": "markdown",
   "id": "10bbf420-fda0-4f5e-9268-aa7a32db6ae7",
   "metadata": {},
   "source": [
    "## Load csv file\n",
    "\n",
    "Load the file called world_population.csv into a pandas dataframe. Make sure you parse the columns correctly."
   ]
  },
  {
   "cell_type": "code",
   "execution_count": 3,
   "id": "1d8f6be3-7b74-41eb-8b60-3b9aee1434d1",
   "metadata": {},
   "outputs": [
    {
     "name": "stdout",
     "output_type": "stream",
     "text": [
      "Folders in the parent directory:\n",
      "etc\n",
      "proc\n",
      "root\n",
      "mnt\n",
      "home\n",
      "boot\n",
      "dev\n",
      "opt\n",
      "lib\n",
      "srv\n",
      "sys\n",
      "usr\n",
      "media\n",
      "var\n",
      "bin\n",
      "sbin\n",
      "tmp\n",
      "run\n",
      "notebook\n",
      "data\n"
     ]
    }
   ],
   "source": [
    "import os\n",
    "\n",
    "# Get the current working directory\n",
    "current_directory = os.getcwd()\n",
    "\n",
    "# Get the parent directory (directory above the current directory)\n",
    "parent_directory = os.path.dirname(current_directory)\n",
    "\n",
    "# List all folders in the parent directory\n",
    "folders_in_parent_directory = [folder for folder in os.listdir(parent_directory) if os.path.isdir(os.path.join(parent_directory, folder))]\n",
    "\n",
    "# Print the list of folders\n",
    "print(\"Folders in the parent directory:\")\n",
    "for folder in folders_in_parent_directory:\n",
    "    print(folder)\n"
   ]
  },
  {
   "cell_type": "code",
   "execution_count": 4,
   "id": "761fa497-e16f-4c1d-83e7-7cb8cfda5288",
   "metadata": {},
   "outputs": [
    {
     "name": "stdout",
     "output_type": "stream",
     "text": [
      "      gwb_code_10 gwb_code_8                         regio         gm_naam  \\\n",
      "0            NL00       0000                     Nederland       Nederland   \n",
      "1          GM0014       0014                     Groningen       Groningen   \n",
      "2        WK001400     001400                       Centrum       Groningen   \n",
      "3      BU00140000   00140000              Binnenstad-Noord       Groningen   \n",
      "4      BU00140001   00140001               Binnenstad-Zuid       Groningen   \n",
      "...           ...        ...                           ...             ...   \n",
      "18111  BU19923201   19923201             Tuindorp-Hofstede  Voorne aan Zee   \n",
      "18112  BU19923202   19923202                      Zalmlaan  Voorne aan Zee   \n",
      "18113  BU19923209   19923209             Verspreide huizen  Voorne aan Zee   \n",
      "18114    WK199233     199233  Recreatiestrook Brielse Maas  Voorne aan Zee   \n",
      "18115  BU19923300   19923300  Recreatiestrook Brielse Maas  Voorne aan Zee   \n",
      "\n",
      "           recs    gwb_code ind_wbi     a_inw    a_man  a_vrouw  ...  \\\n",
      "0          Land        NL00       .  17811291  8850309  8960982  ...   \n",
      "1      Gemeente      GM0014       1    238147   118198   119949  ...   \n",
      "2          Wijk    WK001400       1     23150    12045    11105  ...   \n",
      "3         Buurt  BU00140000       1      4405     2315     2090  ...   \n",
      "4         Buurt  BU00140001       1      6570     3505     3060  ...   \n",
      "...         ...         ...     ...       ...      ...      ...  ...   \n",
      "18111     Buurt  BU19923201       2       960      485      480  ...   \n",
      "18112     Buurt  BU19923202       2        65       35       30  ...   \n",
      "18113     Buurt  BU19923209       2       300      150      145  ...   \n",
      "18114      Wijk    WK199233       2        50       25       30  ...   \n",
      "18115     Buurt  BU19923300       2        55       25       25  ...   \n",
      "\n",
      "       g_afs_kv  g_afs_sc  g_3km_sc  a_opp_ha  a_lan_ha  a_wat_ha  pst_mvp  \\\n",
      "0             .         .         .   4154337   3364723    789614        .   \n",
      "1             .         .         .     19796     18553      1243        .   \n",
      "2             .         .         .       241       228        13        .   \n",
      "3             .         .         .        39        37         2     9712   \n",
      "4             .         .         .        59        55         4     9711   \n",
      "...         ...       ...       ...       ...       ...       ...      ...   \n",
      "18111         .         .         .        30        27         4     3238   \n",
      "18112         .         .         .        17        11         6     3238   \n",
      "18113         .         .         .       884       809        75     3238   \n",
      "18114         .         .         .       233       121       112        .   \n",
      "18115         .         .         .       233       121       112     3231   \n",
      "\n",
      "       pst_dekp  ste_mvs ste_oad  \n",
      "0             .        2    2055  \n",
      "1             .        1    3427  \n",
      "2             .        1    6647  \n",
      "3             1        1    6865  \n",
      "4             1        1    6586  \n",
      "...         ...      ...     ...  \n",
      "18111         3        5     284  \n",
      "18112         1        5     278  \n",
      "18113         1        5      95  \n",
      "18114         .        5      84  \n",
      "18115         1        5      84  \n",
      "\n",
      "[18116 rows x 120 columns]\n"
     ]
    }
   ],
   "source": [
    "# Load the csv into a pandas dataframe (https://www.w3schools.com/python/pandas/pandas_dataframes.asp)\n",
    "kwbfile = pd.read_excel(\"../data/kwb-2023.xls\")\n",
    "\n",
    "print(kwbfile)"
   ]
  },
  {
   "cell_type": "markdown",
   "id": "06278d87-387b-4607-89ab-2d78eeafc1be",
   "metadata": {},
   "source": [
    "## Store data into database\n",
    "Save the contents in the world_population file to the a table called population in the database. "
   ]
  },
  {
   "cell_type": "code",
   "execution_count": 6,
   "id": "b086dcd4-80e9-4874-9c77-1887b8313716",
   "metadata": {},
   "outputs": [
    {
     "data": {
      "text/plain": [
       "26"
      ]
     },
     "execution_count": 6,
     "metadata": {},
     "output_type": "execute_result"
    }
   ],
   "source": [
    "# Create a SQLAlchemy engine to connect to the PostgreSQL database\n",
    "engine = create_engine(\"postgresql://student:infomdss@db_dashboard:5432/dashboard\")\n",
    "\n",
    "# Establish a connection to the database using the engine\n",
    "# The 'with' statement ensures that the connection is properly closed when done\n",
    "with engine.connect() as conn:\n",
    "    # Execute an SQL command to drop the 'population' table if it exists\n",
    "    # The text() function allows you to execute raw SQL statements\n",
    "    result = conn.execute(text(\"DROP TABLE IF EXISTS neighborhoods CASCADE;\"))\n",
    "\n",
    "# Assuming you have a DataFrame named 'world_population_df', the following line\n",
    "# writes the data from the DataFrame to a new 'population' table in the database\n",
    "# If the 'population' table already exists, it will be replaced with the new data\n",
    "# This prints the number of rows entered in the database table\n",
    "kwbfile.to_sql(\"neighborhoods\", engine, if_exists=\"replace\", index=True)"
   ]
  },
  {
   "cell_type": "markdown",
   "id": "c72e7287-6685-45f2-a7cd-52d367350439",
   "metadata": {},
   "source": [
    "## Fetch data from database\n",
    "Read the table **population** from the database in a dataframe. Make sure the index column is the index of the dataframe."
   ]
  },
  {
   "cell_type": "code",
   "execution_count": 7,
   "id": "722f1b18-5759-4267-83e1-b3fe2fa850e1",
   "metadata": {},
   "outputs": [
    {
     "name": "stdout",
     "output_type": "stream",
     "text": [
      "      gwb_code_10 gwb_code_8                         regio         gm_naam  \\\n",
      "index                                                                        \n",
      "0            NL00       0000                     Nederland       Nederland   \n",
      "1          GM0014       0014                     Groningen       Groningen   \n",
      "2        WK001400     001400                       Centrum       Groningen   \n",
      "3      BU00140000   00140000              Binnenstad-Noord       Groningen   \n",
      "4      BU00140001   00140001               Binnenstad-Zuid       Groningen   \n",
      "...           ...        ...                           ...             ...   \n",
      "18111  BU19923201   19923201             Tuindorp-Hofstede  Voorne aan Zee   \n",
      "18112  BU19923202   19923202                      Zalmlaan  Voorne aan Zee   \n",
      "18113  BU19923209   19923209             Verspreide huizen  Voorne aan Zee   \n",
      "18114    WK199233     199233  Recreatiestrook Brielse Maas  Voorne aan Zee   \n",
      "18115  BU19923300   19923300  Recreatiestrook Brielse Maas  Voorne aan Zee   \n",
      "\n",
      "           recs    gwb_code ind_wbi     a_inw    a_man  a_vrouw  ...  \\\n",
      "index                                                            ...   \n",
      "0          Land        NL00       .  17811291  8850309  8960982  ...   \n",
      "1      Gemeente      GM0014       1    238147   118198   119949  ...   \n",
      "2          Wijk    WK001400       1     23150    12045    11105  ...   \n",
      "3         Buurt  BU00140000       1      4405     2315     2090  ...   \n",
      "4         Buurt  BU00140001       1      6570     3505     3060  ...   \n",
      "...         ...         ...     ...       ...      ...      ...  ...   \n",
      "18111     Buurt  BU19923201       2       960      485      480  ...   \n",
      "18112     Buurt  BU19923202       2        65       35       30  ...   \n",
      "18113     Buurt  BU19923209       2       300      150      145  ...   \n",
      "18114      Wijk    WK199233       2        50       25       30  ...   \n",
      "18115     Buurt  BU19923300       2        55       25       25  ...   \n",
      "\n",
      "       g_afs_kv  g_afs_sc  g_3km_sc  a_opp_ha  a_lan_ha  a_wat_ha  pst_mvp  \\\n",
      "index                                                                        \n",
      "0             .         .         .   4154337   3364723    789614        .   \n",
      "1             .         .         .     19796     18553      1243        .   \n",
      "2             .         .         .       241       228        13        .   \n",
      "3             .         .         .        39        37         2     9712   \n",
      "4             .         .         .        59        55         4     9711   \n",
      "...         ...       ...       ...       ...       ...       ...      ...   \n",
      "18111         .         .         .        30        27         4     3238   \n",
      "18112         .         .         .        17        11         6     3238   \n",
      "18113         .         .         .       884       809        75     3238   \n",
      "18114         .         .         .       233       121       112        .   \n",
      "18115         .         .         .       233       121       112     3231   \n",
      "\n",
      "       pst_dekp  ste_mvs ste_oad  \n",
      "index                             \n",
      "0             .        2    2055  \n",
      "1             .        1    3427  \n",
      "2             .        1    6647  \n",
      "3             1        1    6865  \n",
      "4             1        1    6586  \n",
      "...         ...      ...     ...  \n",
      "18111         3        5     284  \n",
      "18112         1        5     278  \n",
      "18113         1        5      95  \n",
      "18114         .        5      84  \n",
      "18115         1        5      84  \n",
      "\n",
      "[18116 rows x 120 columns]\n"
     ]
    }
   ],
   "source": [
    "# Read data from the SQL table named 'population' using pandas\n",
    "# 'pd.read_sql_table' is a pandas function that reads data from an SQL table\n",
    "# 'db_conn' is the database connection object previously established\n",
    "neighborhoods_table = pd.read_sql_table('neighborhoods', engine, index_col='index')\n",
    "\n",
    "# This line prints the entire DataFrame to the output\n",
    "print(neighborhoods_table)\n",
    "\n",
    "# Note that we transformed the data from a .csv file to a pandas dataframe\n",
    "# Then loaded the dataframe into the database table\n",
    "# And now we have pulled the data from the database and put it in a dataframe again\n",
    "# This is an example of how you might store and fetch data to and from your database for your dashboard"
   ]
  },
  {
   "cell_type": "code",
   "execution_count": null,
   "id": "8a6d615e-0d89-4bdb-b686-a3a191546450",
   "metadata": {},
   "outputs": [],
   "source": []
  }
 ],
 "metadata": {
  "kernelspec": {
   "display_name": "Python 3 (ipykernel)",
   "language": "python",
   "name": "python3"
  },
  "language_info": {
   "codemirror_mode": {
    "name": "ipython",
    "version": 3
   },
   "file_extension": ".py",
   "mimetype": "text/x-python",
   "name": "python",
   "nbconvert_exporter": "python",
   "pygments_lexer": "ipython3",
   "version": "3.11.5"
  }
 },
 "nbformat": 4,
 "nbformat_minor": 5
}
