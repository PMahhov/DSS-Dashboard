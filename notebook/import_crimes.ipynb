{
 "cells": [
  {
   "cell_type": "markdown",
   "id": "dab306e3",
   "metadata": {},
   "source": [
    "# Import Population file"
   ]
  },
  {
   "cell_type": "markdown",
   "id": "ef17bea2-3e2e-465d-908c-c5dd3429e282",
   "metadata": {},
   "source": [
    "This Docker container may serve as a starting point for your course project.\n",
    "It includes a set of simple instructions to:\n",
    "<br>\n",
    " -> load a dataset (locally)\n",
    " <br>\n",
    " -> into a database\n",
    " <br>\n",
    " -> and be able to query data from the database\n",
    " <br>\n",
    " -> and make simple visualizations on the queried data"
   ]
  },
  {
   "cell_type": "code",
   "execution_count": 2,
   "id": "603f88b8",
   "metadata": {},
   "outputs": [],
   "source": [
    "# Imports\n",
    "\n",
    "from sqlalchemy import create_engine, text, inspect, Table\n",
    "import pandas as pd"
   ]
  },
  {
   "cell_type": "markdown",
   "id": "10bbf420-fda0-4f5e-9268-aa7a32db6ae7",
   "metadata": {},
   "source": [
    "## Load csv file\n",
    "\n",
    "Load the file called world_population.csv into a pandas dataframe. Make sure you parse the columns correctly."
   ]
  },
  {
   "cell_type": "code",
   "execution_count": 3,
   "id": "1d8f6be3-7b74-41eb-8b60-3b9aee1434d1",
   "metadata": {},
   "outputs": [
    {
     "name": "stdout",
     "output_type": "stream",
     "text": [
      "Folders in the parent directory:\n",
      "etc\n",
      "proc\n",
      "root\n",
      "mnt\n",
      "home\n",
      "boot\n",
      "dev\n",
      "opt\n",
      "lib\n",
      "srv\n",
      "sys\n",
      "usr\n",
      "media\n",
      "var\n",
      "bin\n",
      "sbin\n",
      "tmp\n",
      "run\n",
      "notebook\n",
      "data\n"
     ]
    }
   ],
   "source": [
    "import os\n",
    "\n",
    "# Get the current working directory\n",
    "current_directory = os.getcwd()\n",
    "\n",
    "# Get the parent directory (directory above the current directory)\n",
    "parent_directory = os.path.dirname(current_directory)\n",
    "\n",
    "# List all folders in the parent directory\n",
    "folders_in_parent_directory = [folder for folder in os.listdir(parent_directory) if os.path.isdir(os.path.join(parent_directory, folder))]\n",
    "\n",
    "# Print the list of folders\n",
    "print(\"Folders in the parent directory:\")\n",
    "for folder in folders_in_parent_directory:\n",
    "    print(folder)\n"
   ]
  },
  {
   "cell_type": "code",
   "execution_count": 4,
   "id": "761fa497-e16f-4c1d-83e7-7cb8cfda5288",
   "metadata": {},
   "outputs": [
    {
     "name": "stdout",
     "output_type": "stream",
     "text": [
      "      ID;\"SoortMisdrijf\";\"RegioS\";\"Perioden\";\"GeregistreerdeMisdrijven_1\";\"Aangiften_2\";\"Internetaangiften_3\"\n",
      "0      142;\"0.0.0 \";\"NL01  \";\"2022JJ00\";\"  799681\";\" ...                                                     \n",
      "1      293;\"0.0.0 \";\"LD01  \";\"2022JJ00\";\"   63445\";\" ...                                                     \n",
      "2      444;\"0.0.0 \";\"LD02  \";\"2022JJ00\";\"  144450\";\" ...                                                     \n",
      "3      595;\"0.0.0 \";\"LD03  \";\"2022JJ00\";\"  420994\";\" ...                                                     \n",
      "4      746;\"0.0.0 \";\"LDG4  \";\"2022JJ00\";\"       .\";\" ...                                                     \n",
      "...                                                  ...                                                     \n",
      "22120  3340262;\"3.9.3 \";\"RE07  \";\"2022JJ00\";\"      84...                                                     \n",
      "22121  3340413;\"3.9.3 \";\"RE08  \";\"2022JJ00\";\"      50...                                                     \n",
      "22122  3340564;\"3.9.3 \";\"RE09  \";\"2022JJ00\";\"      52...                                                     \n",
      "22123  3340715;\"3.9.3 \";\"RE10  \";\"2022JJ00\";\"      62...                                                     \n",
      "22124  3340866;\"3.9.3 \";\"RE99  \";\"2022JJ00\";\"       ....                                                     \n",
      "\n",
      "[22125 rows x 1 columns]\n"
     ]
    }
   ],
   "source": [
    "# Load the csv into a pandas dataframe (https://www.w3schools.com/python/pandas/pandas_dataframes.asp)\n",
    "policefile = pd.read_csv(\"../data/policedata.csv\")\n",
    "\n",
    "print(policefile)"
   ]
  },
  {
   "cell_type": "markdown",
   "id": "06278d87-387b-4607-89ab-2d78eeafc1be",
   "metadata": {},
   "source": [
    "## Store data into database\n",
    "Save the contents in the world_population file to the a table called population in the database. "
   ]
  },
  {
   "cell_type": "code",
   "execution_count": 11,
   "id": "b086dcd4-80e9-4874-9c77-1887b8313716",
   "metadata": {},
   "outputs": [
    {
     "data": {
      "text/plain": [
       "125"
      ]
     },
     "execution_count": 11,
     "metadata": {},
     "output_type": "execute_result"
    }
   ],
   "source": [
    "# Create a SQLAlchemy engine to connect to the PostgreSQL database\n",
    "engine = create_engine(\"postgresql://student:infomdss@db_dashboard:5432/dashboard\")\n",
    "\n",
    "# Establish a connection to the database using the engine\n",
    "# The 'with' statement ensures that the connection is properly closed when done\n",
    "with engine.connect() as conn:\n",
    "    # Execute an SQL command to drop the 'population' table if it exists\n",
    "    # The text() function allows you to execute raw SQL statements\n",
    "    result = conn.execute(text(\"DROP TABLE IF EXISTS crimes CASCADE;\"))\n",
    "\n",
    "# Assuming you have a DataFrame named 'world_population_df', the following line\n",
    "# writes the data from the DataFrame to a new 'population' table in the database\n",
    "# If the 'population' table already exists, it will be replaced with the new data\n",
    "# This prints the number of rows entered in the database table\n",
    "policefile.to_sql(\"crimes\", engine, if_exists=\"replace\", index=True)"
   ]
  },
  {
   "cell_type": "markdown",
   "id": "c72e7287-6685-45f2-a7cd-52d367350439",
   "metadata": {},
   "source": [
    "## Fetch data from database\n",
    "Read the table **population** from the database in a dataframe. Make sure the index column is the index of the dataframe."
   ]
  },
  {
   "cell_type": "code",
   "execution_count": 13,
   "id": "722f1b18-5759-4267-83e1-b3fe2fa850e1",
   "metadata": {},
   "outputs": [
    {
     "name": "stdout",
     "output_type": "stream",
     "text": [
      "      ID;\"SoortMisdrijf\";\"RegioS\";\"Perioden\";\"GeregistreerdeMisdrijve\n",
      "index                                                                \n",
      "0      142;\"0.0.0 \";\"NL01  \";\"2022JJ00\";\"  799681\";\" ...             \n",
      "1      293;\"0.0.0 \";\"LD01  \";\"2022JJ00\";\"   63445\";\" ...             \n",
      "2      444;\"0.0.0 \";\"LD02  \";\"2022JJ00\";\"  144450\";\" ...             \n",
      "3      595;\"0.0.0 \";\"LD03  \";\"2022JJ00\";\"  420994\";\" ...             \n",
      "4      746;\"0.0.0 \";\"LDG4  \";\"2022JJ00\";\"       .\";\" ...             \n",
      "...                                                  ...             \n",
      "22120  3340262;\"3.9.3 \";\"RE07  \";\"2022JJ00\";\"      84...             \n",
      "22121  3340413;\"3.9.3 \";\"RE08  \";\"2022JJ00\";\"      50...             \n",
      "22122  3340564;\"3.9.3 \";\"RE09  \";\"2022JJ00\";\"      52...             \n",
      "22123  3340715;\"3.9.3 \";\"RE10  \";\"2022JJ00\";\"      62...             \n",
      "22124  3340866;\"3.9.3 \";\"RE99  \";\"2022JJ00\";\"       ....             \n",
      "\n",
      "[22125 rows x 1 columns]\n"
     ]
    }
   ],
   "source": [
    "# Read data from the SQL table named 'population' using pandas\n",
    "# 'pd.read_sql_table' is a pandas function that reads data from an SQL table\n",
    "# 'db_conn' is the database connection object previously established\n",
    "crimes = pd.read_sql_table('crimes', engine, index_col='index')\n",
    "\n",
    "# This line prints the entire DataFrame to the output\n",
    "print(crimes)\n",
    "\n",
    "# Note that we transformed the data from a .csv file to a pandas dataframe\n",
    "# Then loaded the dataframe into the database table\n",
    "# And now we have pulled the data from the database and put it in a dataframe again\n",
    "# This is an example of how you might store and fetch data to and from your database for your dashboard"
   ]
  },
  {
   "cell_type": "code",
   "execution_count": null,
   "id": "7976e2e3-c67c-49be-860c-9b778570c49b",
   "metadata": {},
   "outputs": [],
   "source": []
  },
  {
   "cell_type": "code",
   "execution_count": null,
   "id": "831db459-c52c-4d4e-8b64-d8860f0c78b3",
   "metadata": {},
   "outputs": [],
   "source": []
  },
  {
   "cell_type": "code",
   "execution_count": null,
   "id": "afaf6782-7212-4775-aea9-53902c6e6108",
   "metadata": {},
   "outputs": [],
   "source": []
  }
 ],
 "metadata": {
  "kernelspec": {
   "display_name": "Python 3 (ipykernel)",
   "language": "python",
   "name": "python3"
  },
  "language_info": {
   "codemirror_mode": {
    "name": "ipython",
    "version": 3
   },
   "file_extension": ".py",
   "mimetype": "text/x-python",
   "name": "python",
   "nbconvert_exporter": "python",
   "pygments_lexer": "ipython3",
   "version": "3.11.5"
  }
 },
 "nbformat": 4,
 "nbformat_minor": 5
}
